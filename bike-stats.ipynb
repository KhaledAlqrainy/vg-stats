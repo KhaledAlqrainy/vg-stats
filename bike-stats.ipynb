{
 "cells": [
  {
   "cell_type": "markdown",
   "metadata": {},
   "source": [
    "# Bike Stats"
   ]
  },
  {
   "cell_type": "code",
   "execution_count": 2,
   "metadata": {},
   "outputs": [],
   "source": [
    "import pandas as pd\n",
    "import numpy as np"
   ]
  },
  {
   "cell_type": "code",
   "execution_count": 3,
   "metadata": {},
   "outputs": [
    {
     "name": "stderr",
     "output_type": "stream",
     "text": [
      "/home/khaledalqrainy/401_python/vg-stats/.venv/lib/python3.9/site-packages/IPython/core/interactiveshell.py:3444: FutureWarning: The error_bad_lines argument has been deprecated and will be removed in a future version.\n",
      "\n",
      "\n",
      "  exec(code_obj, self.user_global_ns, self.user_ns)\n",
      "b'Skipping line 50794: expected 12 fields, saw 20\\n'\n"
     ]
    }
   ],
   "source": [
    "df_station=pd.read_csv('./station.csv')\n",
    "df_weather=pd.read_csv('./weather.csv')\n",
    "df_trip=pd.read_csv('./trip.csv', error_bad_lines=False)\n"
   ]
  },
  {
   "cell_type": "markdown",
   "metadata": {},
   "source": [
    "## What is the average trip duration for a borrowed bicycle?"
   ]
  },
  {
   "cell_type": "code",
   "execution_count": 4,
   "metadata": {},
   "outputs": [
    {
     "data": {
      "text/plain": [
       "1178.2956753399776"
      ]
     },
     "execution_count": 4,
     "metadata": {},
     "output_type": "execute_result"
    }
   ],
   "source": [
    "avgTrip=df_trip.tripduration.mean()\n",
    "avgTrip"
   ]
  },
  {
   "cell_type": "markdown",
   "metadata": {},
   "source": [
    "## What’s the most common age of a bicycle-sharer?"
   ]
  },
  {
   "cell_type": "code",
   "execution_count": 5,
   "metadata": {},
   "outputs": [
    {
     "data": {
      "text/plain": [
       "34.0"
      ]
     },
     "execution_count": 5,
     "metadata": {},
     "output_type": "execute_result"
    }
   ],
   "source": [
    "age=df_trip['birthyear'].value_counts().idxmax()\n",
    "2021-age"
   ]
  },
  {
   "cell_type": "markdown",
   "metadata": {},
   "source": [
    "## Given all the weather data here, find the average precipitation per month, and the median precipitation."
   ]
  },
  {
   "cell_type": "code",
   "execution_count": 6,
   "metadata": {},
   "outputs": [
    {
     "data": {
      "text/plain": [
       "3.1519593613933234"
      ]
     },
     "execution_count": 6,
     "metadata": {},
     "output_type": "execute_result"
    }
   ],
   "source": [
    "avgWeather=df_weather.Precipitation_In.mean()\n",
    "avgWeather_mounth = avgWeather*30\n",
    "avgWeather_mounth\n",
    "\n"
   ]
  },
  {
   "cell_type": "code",
   "execution_count": 7,
   "metadata": {},
   "outputs": [
    {
     "data": {
      "text/plain": [
       "0.0"
      ]
     },
     "execution_count": 7,
     "metadata": {},
     "output_type": "execute_result"
    }
   ],
   "source": [
    "median_Weather=df_weather.Precipitation_In.median()\n",
    "median_Weather"
   ]
  },
  {
   "cell_type": "markdown",
   "metadata": {},
   "source": [
    "## What’s the average number of bikes at a given bike station?"
   ]
  },
  {
   "cell_type": "code",
   "execution_count": 8,
   "metadata": {},
   "outputs": [
    {
     "data": {
      "text/plain": [
       "17.74074074074074"
      ]
     },
     "execution_count": 8,
     "metadata": {},
     "output_type": "execute_result"
    }
   ],
   "source": [
    "avgStation=df_station[df_station['current_dockcount']!=0].current_dockcount.mean()\n",
    "avgStation"
   ]
  },
  {
   "cell_type": "markdown",
   "metadata": {},
   "source": [
    "## When a bike station is modified, is it more likely that it’ll lose bikes or gain bikes? How do you know?"
   ]
  },
  {
   "cell_type": "code",
   "execution_count": 14,
   "metadata": {},
   "outputs": [
    {
     "data": {
      "text/plain": [
       "'Lost bikes'"
      ]
     },
     "execution_count": 14,
     "metadata": {},
     "output_type": "execute_result"
    }
   ],
   "source": [
    "modified= df_station[\"current_dockcount\"].mean()\n",
    "\n",
    "if modified < avgStation:\n",
    "    result = \"Lost bikes\"\n",
    "else:\n",
    "    result =\"Gain bikes\"\n",
    "\n",
    "result"
   ]
  },
  {
   "cell_type": "markdown",
   "metadata": {},
   "source": [
    "## list of station names."
   ]
  },
  {
   "cell_type": "code",
   "execution_count": 10,
   "metadata": {},
   "outputs": [
    {
     "data": {
      "text/plain": [
       "0                                    3rd Ave & Broad St\n",
       "1                                     2nd Ave & Vine St\n",
       "2                                6th Ave & Blanchard St\n",
       "3                                2nd Ave & Blanchard St\n",
       "4                                    7th Ave & Union St\n",
       "5                                    Union St & 4th Ave\n",
       "6                                   1st Ave & Marion St\n",
       "7                                   2nd Ave & Spring St\n",
       "8                        City Hall / 4th Ave & James St\n",
       "9                                     2nd Ave & Pine St\n",
       "10                              12th Ave & E Yesler Way\n",
       "11                             Summit Ave & E Denny Way\n",
       "12                       E Harrison St & Broadway Ave E\n",
       "13                       Summit Ave E & E Republican St\n",
       "14                             15th Ave E & E Thomas St\n",
       "15                               12th Ave & E Denny Way\n",
       "16                                 E Pine St & 16th Ave\n",
       "17               Cal Anderson Park / 11th Ave & Pine St\n",
       "18                              Harvard Ave & E Pine St\n",
       "19                             Bellevue Ave & E Pine St\n",
       "20                               12th Ave & E Mercer St\n",
       "21                                9th Ave N & Mercer St\n",
       "22    Children's Hospital / Sandpoint Way NE & 40th ...\n",
       "23    Fred Hutchinson Cancer Research Center / Fairv...\n",
       "24                         E Blaine St & Fairview Ave E\n",
       "25                        Eastlake Ave E & E Allison St\n",
       "26            Frye Art Museum / Terry Ave & Columbia St\n",
       "27        Seattle University / E Columbia St & 12th Ave\n",
       "28                                6th Ave S & S King St\n",
       "29    Occidental Park / Occidental Ave S & S Washing...\n",
       "30    King Street Station Plaza / 2nd Ave Extension ...\n",
       "31                           REI / Yale Ave N & John St\n",
       "32                              Dexter Ave N & Aloha St\n",
       "33                       Republican St & Westlake Ave N\n",
       "34                        PATH / 9th Ave & Westlake Ave\n",
       "35                               Westlake Ave & 6th Ave\n",
       "36                                    Pine St & 9th Ave\n",
       "37            Lake Union Park / Valley St & Boren Ave N\n",
       "38                               Dexter Ave & Denny Way\n",
       "39                  Key Arena / 1st Ave N & Harrison St\n",
       "40                               Terry Ave & Stewart St\n",
       "41                                Mercer St & 9th Ave N\n",
       "42    Burke-Gilman Trail / NE Blakeley St & 24th Ave NE\n",
       "43                       NE 42nd St & University Way NE\n",
       "44                            12th Ave & NE Campus Pkwy\n",
       "45                             NE 47th St & 12th Ave NE\n",
       "46                         UW McCarty Hall / Whitman Ct\n",
       "47    Burke Museum / E Stevens Way NE & Memorial Way NE\n",
       "48                             15th Ave NE & NE 40th St\n",
       "49    UW Engineering Library / E Stevens Way NE & Je...\n",
       "50                    UW Intramural Activities Building\n",
       "51    UW Magnuson Health Sciences Center Rotunda / C...\n",
       "52                      Pier 69 / Alaskan Way & Clay St\n",
       "53    Seattle Aquarium / Alaskan Way S & Elliott Bay...\n",
       "54                             Broadway and E Denny Way\n",
       "55                                Thomas St & 5th Ave N\n",
       "56                      NE Pacific St/UW Medical Center\n",
       "57                      Pier 66 / Alaskan Way & Bell St\n",
       "Name: name, dtype: object"
      ]
     },
     "execution_count": 10,
     "metadata": {},
     "output_type": "execute_result"
    }
   ],
   "source": [
    "names = df_station['name']\n",
    "names"
   ]
  },
  {
   "cell_type": "markdown",
   "metadata": {},
   "source": [
    "## How many female bike riders?"
   ]
  },
  {
   "cell_type": "code",
   "execution_count": 11,
   "metadata": {},
   "outputs": [
    {
     "data": {
      "text/plain": [
       "37562"
      ]
     },
     "execution_count": 11,
     "metadata": {},
     "output_type": "execute_result"
    }
   ],
   "source": [
    "female = df_trip[df_trip['gender'] == 'Female']['gender'].count()\n",
    "female"
   ]
  },
  {
   "cell_type": "markdown",
   "metadata": {},
   "source": [
    "## How many male bike riders?"
   ]
  },
  {
   "cell_type": "code",
   "execution_count": 12,
   "metadata": {},
   "outputs": [
    {
     "data": {
      "text/plain": [
       "140564"
      ]
     },
     "execution_count": 12,
     "metadata": {},
     "output_type": "execute_result"
    }
   ],
   "source": [
    "males = df_trip[df_trip['gender'] == 'Male']['gender'].count()\n",
    "males"
   ]
  },
  {
   "cell_type": "code",
   "execution_count": 13,
   "metadata": {},
   "outputs": [
    {
     "name": "stdout",
     "output_type": "stream",
     "text": [
      "Success!!!\n"
     ]
    }
   ],
   "source": [
    "def test():\n",
    "\n",
    "    def assert_equal(actual,expected):\n",
    "        assert actual == expected, f\"Expected {expected} but got {actual}\"\n",
    "\n",
    "    assert_equal(avgTrip, 1178.2956753399776)\n",
    "    assert_equal(2021-age,34.0)\n",
    "    assert_equal(avgWeather, 0.10506531204644412)\n",
    "    assert_equal(median_Weather, 0.0)\n",
    "    assert_equal(avgStation, 17.74074074074074)\n",
    "    assert_equal(modified_lessAndmore[0],17.529411764705884)\n",
    "    assert_equal(modified_lessAndmore[1], 13.764705882352942)\n",
    "\n",
    "    print(\"Success!!!\")\n",
    "\n",
    "test()"
   ]
  }
 ],
 "metadata": {
  "interpreter": {
   "hash": "40855bd38967688db1464bbf2d32e34863a5947710c31066ef2c8460039bc174"
  },
  "kernelspec": {
   "display_name": "Python 3.9.5 64-bit ('.venv': poetry)",
   "name": "python3"
  },
  "language_info": {
   "codemirror_mode": {
    "name": "ipython",
    "version": 3
   },
   "file_extension": ".py",
   "mimetype": "text/x-python",
   "name": "python",
   "nbconvert_exporter": "python",
   "pygments_lexer": "ipython3",
   "version": "3.9.5"
  },
  "orig_nbformat": 4
 },
 "nbformat": 4,
 "nbformat_minor": 2
}
